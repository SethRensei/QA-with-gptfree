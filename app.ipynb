{
 "cells": [
  {
   "cell_type": "code",
   "execution_count": 1,
   "metadata": {},
   "outputs": [],
   "source": [
    "from QaS import Conversation, CustomLLM, Embedding\n",
    "from langchain_core.output_parsers import StrOutputParser\n",
    "from langchain_core.runnables import RunnablePassthrough, RunnableParallel"
   ]
  },
  {
   "cell_type": "code",
   "execution_count": 2,
   "metadata": {},
   "outputs": [
    {
     "name": "stderr",
     "output_type": "stream",
     "text": [
      "e:\\Programs\\Py\\IhmSqr\\.venv\\Lib\\site-packages\\tqdm\\auto.py:21: TqdmWarning: IProgress not found. Please update jupyter and ipywidgets. See https://ipywidgets.readthedocs.io/en/stable/user_install.html\n",
      "  from .autonotebook import tqdm as notebook_tqdm\n"
     ]
    }
   ],
   "source": [
    "emb = Embedding.getEmbedding('./LocalModel')\n",
    "retriever = Conversation.getDatabase(embeddings=emb, path='./vectors')"
   ]
  },
  {
   "cell_type": "code",
   "execution_count": 3,
   "metadata": {},
   "outputs": [],
   "source": [
    "prompt = Conversation.promptSystem()\n",
    "parser = StrOutputParser()"
   ]
  },
  {
   "cell_type": "code",
   "execution_count": 4,
   "metadata": {},
   "outputs": [],
   "source": [
    "result = RunnableParallel(context=retriever, question=RunnablePassthrough())"
   ]
  },
  {
   "cell_type": "code",
   "execution_count": 5,
   "metadata": {},
   "outputs": [],
   "source": [
    "llm = CustomLLM()\n",
    "chain = result | prompt | llm | parser"
   ]
  },
  {
   "cell_type": "code",
   "execution_count": 6,
   "metadata": {},
   "outputs": [
    {
     "name": "stdout",
     "output_type": "stream",
     "text": [
      "La capitale du Bénin est Porto-Novo.\n"
     ]
    }
   ],
   "source": [
    "print(chain.invoke('Quelle est la capitale du Bénin ?'))"
   ]
  },
  {
   "cell_type": "code",
   "execution_count": 7,
   "metadata": {},
   "outputs": [
    {
     "name": "stdout",
     "output_type": "stream",
     "text": [
      "La capitale du Bénin est Porto-Novo.\n"
     ]
    }
   ],
   "source": [
    "print(chain.invoke('Quelle ville est la capitale du Bénin ?'))"
   ]
  },
  {
   "cell_type": "code",
   "execution_count": 8,
   "metadata": {},
   "outputs": [
    {
     "name": "stdout",
     "output_type": "stream",
     "text": [
      "Cotonou compte treize arrondissements au total.\n"
     ]
    }
   ],
   "source": [
    "print(chain.invoke('Cotonou compte combien d\\'arrondissements ?'))"
   ]
  },
  {
   "cell_type": "code",
   "execution_count": 9,
   "metadata": {},
   "outputs": [
    {
     "name": "stdout",
     "output_type": "stream",
     "text": [
      "Cotonou, la capitale économique du Bénin, est divisée en treize arrondissements. Chaque arrondissement est composé de plusieurs quartiers. Pour répondre à votre question, Cotonou compte un total de 13 arrondissements, avec un nombre variable de quartiers dans chacun d'eux. Si vous souhaitez des informations plus détaillées sur les quartiers spécifiques de Cotonou, n'hésitez pas à consulter des sources locales pour obtenir une liste exhaustive.\n"
     ]
    }
   ],
   "source": [
    "print(chain.invoke('Cotonou compte combien de quartiers ?'))"
   ]
  },
  {
   "cell_type": "code",
   "execution_count": 10,
   "metadata": {},
   "outputs": [
    {
     "name": "stdout",
     "output_type": "stream",
     "text": [
      "Les quartiers du 1er arrondissement de Cotonou sont Suru-Léré, et pour le 2e arrondissement de Cotonou, il s'agit de Cadjèhoun 1, 2, 3, 4, Cdjehoun kpota, Vodjè kpota, Fidjrossè centre, Fidjrossè kpota, Fiyegnon 01 et 02, Aibatin 01, Cocotier, et Ahouanléko.\n"
     ]
    }
   ],
   "source": [
    "print(chain.invoke('Quelles sont les quartiers du 1er et 2e arrondissement de Cotonou ?'))"
   ]
  },
  {
   "cell_type": "code",
   "execution_count": 11,
   "metadata": {},
   "outputs": [
    {
     "name": "stdout",
     "output_type": "stream",
     "text": [
      "Désolé, je ne peux pas répondre à cette question car elle ne concerne pas les informations fournies dans le contexte donné. Comment puis-je vous aider avec les détails fournis sur le Port autonome de Cotonou et les différentes pharmacies et mosquées mentionnées dans les quartiers de Cotonou?\n"
     ]
    }
   ],
   "source": [
    "print(chain.invoke('Comment tu t\\'appelles ?'))"
   ]
  }
 ],
 "metadata": {
  "kernelspec": {
   "display_name": ".venv",
   "language": "python",
   "name": "python3"
  },
  "language_info": {
   "codemirror_mode": {
    "name": "ipython",
    "version": 3
   },
   "file_extension": ".py",
   "mimetype": "text/x-python",
   "name": "python",
   "nbconvert_exporter": "python",
   "pygments_lexer": "ipython3",
   "version": "3.12.2"
  }
 },
 "nbformat": 4,
 "nbformat_minor": 2
}
