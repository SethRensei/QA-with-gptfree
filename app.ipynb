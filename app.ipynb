{
 "cells": [
  {
   "cell_type": "code",
   "execution_count": 1,
   "metadata": {},
   "outputs": [],
   "source": [
    "from langchain_core.output_parsers import StrOutputParser\n",
    "from langchain_core.runnables import RunnablePassthrough, RunnableParallel\n",
    "\n",
    "from Voice import Voice\n",
    "from QaS import Conversation, CustomLLM, Embedding"
   ]
  },
  {
   "cell_type": "code",
   "execution_count": 2,
   "metadata": {},
   "outputs": [
    {
     "name": "stderr",
     "output_type": "stream",
     "text": [
      "c:\\Users\\sethz\\Desktop\\QA-with-gptfree\\.env\\Lib\\site-packages\\tqdm\\auto.py:21: TqdmWarning: IProgress not found. Please update jupyter and ipywidgets. See https://ipywidgets.readthedocs.io/en/stable/user_install.html\n",
      "  from .autonotebook import tqdm as notebook_tqdm\n"
     ]
    }
   ],
   "source": [
    "emb = Embedding.getEmbedding('./LocalModel')\n",
    "retriever = Conversation.getDatabase(embeddings=emb, path='./vectors')"
   ]
  },
  {
   "cell_type": "code",
   "execution_count": 3,
   "metadata": {},
   "outputs": [],
   "source": [
    "llm = CustomLLM()\n",
    "prompt = Conversation.promptSystem()\n",
    "parser = StrOutputParser()"
   ]
  },
  {
   "cell_type": "code",
   "execution_count": 4,
   "metadata": {},
   "outputs": [],
   "source": [
    "result = RunnableParallel(context=retriever, question=RunnablePassthrough())\n",
    "chain = result | prompt | llm | parser"
   ]
  },
  {
   "cell_type": "code",
   "execution_count": 5,
   "metadata": {},
   "outputs": [
    {
     "name": "stdout",
     "output_type": "stream",
     "text": [
      "Je ne connais pas cette question.\n",
      "\n",
      "Selon le document, le premier arrondissement de Cotonou compte douze (12) quartiers : Dandji, Donaten, Finagnon, Chanhounkpame, Tokplegbe, Avotrou, N'venamede, Suru-Léré, Tanto et Yagbe.\n",
      "\n",
      "Je ne connais pas cette information car le contexte de la question ne concerne pas les mosquées et églises, mais la France.\n",
      "\n"
     ]
    }
   ],
   "source": [
    "voice = Voice()\n",
    "query = input('Votre question ? ')\n",
    "while query.lower() != 'sortir' :\n",
    "    print(f\"{chain.invoke(query)}\\n\")\n",
    "    query = input('Votre question ou sortir pour quitter? ')"
   ]
  }
 ],
 "metadata": {
  "kernelspec": {
   "display_name": ".venv",
   "language": "python",
   "name": "python3"
  },
  "language_info": {
   "codemirror_mode": {
    "name": "ipython",
    "version": 3
   },
   "file_extension": ".py",
   "mimetype": "text/x-python",
   "name": "python",
   "nbconvert_exporter": "python",
   "pygments_lexer": "ipython3",
   "version": "3.12.2"
  }
 },
 "nbformat": 4,
 "nbformat_minor": 2
}
